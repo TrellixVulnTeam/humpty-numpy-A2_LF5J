{
 "cells": [
  {
   "cell_type": "code",
   "execution_count": null,
   "metadata": {},
   "outputs": [],
   "source": [
    "from array import *\n",
    "\n",
    "    '''\n",
    "    Function for loading the initial puzzles, in format 2x4, from a text file.\n",
    "    '''\n",
    "def load_input(filename):\n",
    "    file = open(filename, \"r\")\n",
    "    data = file.readlines()\n",
    "    \n",
    "    puzzleList = []\n",
    "    for puzzle in data\n",
    "        array = array([],[])\n",
    "        for char in puzzle[:4]\n",
    "            array[0].push(char)\n",
    "        for char in puzzle[4:]\n",
    "            array[1].push(char)\n",
    "        puzzleList.push(array)\n",
    "        \n",
    "    return puzzleList"
   ]
  }
 ],
 "metadata": {
  "kernelspec": {
   "display_name": "Python 3",
   "language": "python",
   "name": "python3"
  },
  "language_info": {
   "codemirror_mode": {
    "name": "ipython",
    "version": 3
   },
   "file_extension": ".py",
   "mimetype": "text/x-python",
   "name": "python",
   "nbconvert_exporter": "python",
   "pygments_lexer": "ipython3",
   "version": "3.8.3"
  }
 },
 "nbformat": 4,
 "nbformat_minor": 4
}
