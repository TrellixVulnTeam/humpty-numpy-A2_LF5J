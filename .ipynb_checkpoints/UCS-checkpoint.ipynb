{
 "cells": [
  {
   "cell_type": "code",
   "execution_count": 19,
   "metadata": {},
   "outputs": [],
   "source": [
    "def load_input(filename):\n",
    "    '''\n",
    "    Function for loading the initial puzzles, in format 2x4, from a text file.\n",
    "    '''\n",
    "    file = open(filename, \"r\")\n",
    "    data = file.readlines()\n",
    "\n",
    "    puzzleList = []\n",
    "    for puzzle in data:\n",
    "        puzzle = puzzle.replace(' ', '')\n",
    "        puzzle = puzzle.replace('\\n', '')\n",
    "        puzzleArray = [[], []]\n",
    "        for char in puzzle[:4]:\n",
    "            puzzleArray[0].append(char)\n",
    "        for char in puzzle[4:]:\n",
    "            puzzleArray[1].append(char)\n",
    "        puzzleList.append(puzzleArray)\n",
    "\n",
    "    return puzzleList"
   ]
  },
  {
   "cell_type": "code",
   "execution_count": 24,
   "metadata": {},
   "outputs": [
    {
     "name": "stdout",
     "output_type": "stream",
     "text": [
      "Puzzle 0:\n",
      "['3', '0', '1', '4']\n",
      "['2', '6', '5', '7']\n",
      "Puzzle 1:\n",
      "['6', '3', '4', '7']\n",
      "['1', '2', '5', '0']\n",
      "Puzzle 2:\n",
      "['1', '0', '3', '6']\n",
      "['5', '2', '7', '4']\n"
     ]
    }
   ],
   "source": [
    "# Load puzzles\n",
    "data = load_input(\"A2_Input/samplePuzzles.txt\")\n",
    "counter = 0\n",
    "for line in data:\n",
    "    print(\"Puzzle \" + str(counter) + \":\")\n",
    "    for element in line:\n",
    "        print(element)\n",
    "    counter += 1"
   ]
  },
  {
   "cell_type": "code",
   "execution_count": null,
   "metadata": {},
   "outputs": [],
   "source": []
  }
 ],
 "metadata": {
  "kernelspec": {
   "display_name": "Python 3",
   "language": "python",
   "name": "python3"
  },
  "language_info": {
   "codemirror_mode": {
    "name": "ipython",
    "version": 3
   },
   "file_extension": ".py",
   "mimetype": "text/x-python",
   "name": "python",
   "nbconvert_exporter": "python",
   "pygments_lexer": "ipython3",
   "version": "3.8.3"
  }
 },
 "nbformat": 4,
 "nbformat_minor": 4
}
